{
 "cells": [
  {
   "cell_type": "code",
   "execution_count": 1,
   "metadata": {},
   "outputs": [],
   "source": [
    "import pandas as pd\n",
    "import requests\n",
    "import os"
   ]
  },
  {
   "cell_type": "code",
   "execution_count": 2,
   "metadata": {},
   "outputs": [
    {
     "data": {
      "text/plain": [
       "['J-29-C-1-O-6',\n",
       " 'J-29-C-1-O-9',\n",
       " 'J-29-C-1-P-4',\n",
       " 'J-29-C-1-P-5',\n",
       " 'J-29-C-1-P-6']"
      ]
     },
     "execution_count": 2,
     "metadata": {},
     "output_type": "execute_result"
    }
   ],
   "source": [
    "img_list = list(pd.read_csv('images_aoi.csv')['HOJA'])\n",
    "img_list[0:5]"
   ]
  },
  {
   "cell_type": "code",
   "execution_count": 3,
   "metadata": {},
   "outputs": [],
   "source": [
    "url_base = 'https://intgis.montevideo.gub.uy/sit/mapserv/data/fotos_2021/'"
   ]
  },
  {
   "cell_type": "code",
   "execution_count": 4,
   "metadata": {},
   "outputs": [],
   "source": [
    "\n",
    "def im_image_downloader(img_name):\n",
    "    \"Download images AOI\"\n",
    "    path = 'images/'\n",
    "\n",
    "    if not os.path.exists(path):\n",
    "        os.makedirs(path)\n",
    "    \n",
    "    url = url_base + img_name + '.jpg'\n",
    "    url_ref = url_base + img_name + '.jgw'\n",
    "\n",
    "    headers = {'User-Agent': 'Mozilla/5.0 (Windows NT 6.1; Win64; x64; rv:47.0) Gecko/20100101 Firefox/47.0'}\n",
    "    #headers = {'User-Agent': 'Mozilla/5.0 (Macintosh; Intel Mac OS X 10_11_5) AppleWebKit/537.36 (KHTML, like Gecko) Chrome/50.0.2661.102 Safari/537.36'}\n",
    "\n",
    "    response = requests.get(url, headers=headers)\n",
    "\n",
    "    if response.ok:\n",
    "        with open(path + img_name + '.jpg', 'wb') as f:\n",
    "            f.write(response.content)\n",
    "    else:\n",
    "        print(response, img_name)\n",
    "  \n",
    "    response = requests.get(url_ref, headers=headers)\n",
    "\n",
    "    if response.ok:\n",
    "        with open(path + img_name + '.jgw', 'wb') as f:\n",
    "            f.write(response.content)\n",
    "        print(f'Image {img_name} was downloaded successfully.')\n",
    "    else:\n",
    "        print(response, img_name)\n",
    "  \n"
   ]
  },
  {
   "cell_type": "code",
   "execution_count": 5,
   "metadata": {},
   "outputs": [
    {
     "name": "stdout",
     "output_type": "stream",
     "text": [
      "Image J-29-C-1-O-6 was downloaded successfully.\n",
      "Image J-29-C-1-O-9 was downloaded successfully.\n",
      "Image J-29-C-1-P-4 was downloaded successfully.\n",
      "Image J-29-C-1-P-5 was downloaded successfully.\n",
      "Image J-29-C-1-P-6 was downloaded successfully.\n"
     ]
    },
    {
     "data": {
      "text/plain": [
       "[None, None, None, None, None]"
      ]
     },
     "execution_count": 5,
     "metadata": {},
     "output_type": "execute_result"
    }
   ],
   "source": [
    "[im_image_downloader(foto) for foto in img_list[0:5]]"
   ]
  }
 ],
 "metadata": {
  "kernelspec": {
   "display_name": "Python 3.9.10 ('raster')",
   "language": "python",
   "name": "python3"
  },
  "language_info": {
   "codemirror_mode": {
    "name": "ipython",
    "version": 3
   },
   "file_extension": ".py",
   "mimetype": "text/x-python",
   "name": "python",
   "nbconvert_exporter": "python",
   "pygments_lexer": "ipython3",
   "version": "3.9.13"
  },
  "orig_nbformat": 4,
  "vscode": {
   "interpreter": {
    "hash": "0bfae0698a36a4dfc798e06199e7bec29a339407f4d18e9b5a2a52d7733cfae6"
   }
  }
 },
 "nbformat": 4,
 "nbformat_minor": 2
}

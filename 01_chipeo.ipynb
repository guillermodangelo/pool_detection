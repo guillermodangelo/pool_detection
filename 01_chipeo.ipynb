{
 "cells": [
  {
   "cell_type": "code",
   "execution_count": 2,
   "metadata": {},
   "outputs": [
    {
     "name": "stdout",
     "output_type": "stream",
     "text": [
      "[2022-09-07 19:27:40] INFO:satproc.console.extract_chips:No rescale intensity\n",
      "[2022-09-07 19:27:40] INFO:satproc.console.extract_chips:Extract chips\n",
      "[2022-09-07 19:27:40] INFO:satproc.chips:Prepare AOI shape\n",
      "[2022-09-07 19:27:40] INFO:satproc.chips:Prepare label shapes\n",
      "[2022-09-07 19:27:40] INFO:satproc.masks:Found 101 labels on label file ./labels.geojson\n",
      "[2022-09-07 19:27:40] WARNING:satproc.masks:No features of class ''P'' found. Will generate empty masks.\n",
      "[2022-09-07 19:27:40] INFO:rasterio._env:GDAL signalled an error: err_no=4, msg=\"`./images/*.jpg' does not exist in the file system, and is not recognized as a supported dataset name.\"\n"
     ]
    },
    {
     "name": "stderr",
     "output_type": "stream",
     "text": [
      "\n",
      "Rasters:   0%|          | 0/1 [00:00<?, ?it/s]\n",
      "                                              \n",
      "\n",
      "Rasters:   0%|          | 0/1 [00:00<?, ?it/s]\n",
      "Rasters:   0%|          | 0/1 [00:00<?, ?it/s]\n",
      "Traceback (most recent call last):\n",
      "  File \"rasterio\\_base.pyx\", line 302, in rasterio._base.DatasetBase.__init__\n",
      "  File \"rasterio\\_base.pyx\", line 213, in rasterio._base.open_dataset\n",
      "  File \"rasterio\\_err.pyx\", line 217, in rasterio._err.exc_wrap_pointer\n",
      "rasterio._err.CPLE_OpenFailedError: './images/*.jpg' does not exist in the file system, and is not recognized as a supported dataset name.\n",
      "\n",
      "During handling of the above exception, another exception occurred:\n",
      "\n",
      "Traceback (most recent call last):\n",
      "  File \"C:\\Users\\59898\\anaconda3\\envs\\raster\\lib\\runpy.py\", line 197, in _run_module_as_main\n",
      "    return _run_code(code, main_globals, None,\n",
      "  File \"C:\\Users\\59898\\anaconda3\\envs\\raster\\lib\\runpy.py\", line 87, in _run_code\n",
      "    exec(code, run_globals)\n",
      "  File \"C:\\Users\\59898\\anaconda3\\envs\\raster\\Scripts\\satproc_extract_chips.exe\\__main__.py\", line 7, in <module>\n",
      "  File \"C:\\Users\\59898\\anaconda3\\envs\\raster\\lib\\site-packages\\satproc\\console\\extract_chips.py\", line 307, in run\n",
      "    main(sys.argv[1:])\n",
      "  File \"C:\\Users\\59898\\anaconda3\\envs\\raster\\lib\\site-packages\\satproc\\console\\extract_chips.py\", line 280, in main\n",
      "    extract_chips(\n",
      "  File \"C:\\Users\\59898\\anaconda3\\envs\\raster\\lib\\site-packages\\satproc\\chips.py\", line 66, in extract_chips\n",
      "    extract_chips_from_raster(\n",
      "  File \"C:\\Users\\59898\\anaconda3\\envs\\raster\\lib\\site-packages\\satproc\\chips.py\", line 130, in extract_chips_from_raster\n",
      "    with rasterio.open(raster) as ds:\n",
      "  File \"C:\\Users\\59898\\anaconda3\\envs\\raster\\lib\\site-packages\\rasterio\\env.py\", line 442, in wrapper\n",
      "    return f(*args, **kwds)\n",
      "  File \"C:\\Users\\59898\\anaconda3\\envs\\raster\\lib\\site-packages\\rasterio\\__init__.py\", line 277, in open\n",
      "    dataset = DatasetReader(path, driver=driver, sharing=sharing, **kwargs)\n",
      "  File \"rasterio\\_base.pyx\", line 304, in rasterio._base.DatasetBase.__init__\n",
      "rasterio.errors.RasterioIOError: './images/*.jpg' does not exist in the file system, and is not recognized as a supported dataset name.\n"
     ]
    }
   ],
   "source": [
    "path_to_files = \"./images/*.jpg\"\n",
    "vector_file_aoi = \"./aoi.geojson\"\n",
    "labels = \"./labels.geojson\"\n",
    "\n",
    "size = 2400\n",
    "    \n",
    "!satproc_extract_chips \\\n",
    "    ./images/*.jpg \\\n",
    "    --output-dir \"chips\" \\\n",
    "    --size 2400 \\\n",
    "    --step-size 2400 \\\n",
    "    --aoi \"./aoi.geojson\" \\\n",
    "    --crs EPSG:32721 \\\n",
    "    -t jpg \\\n",
    "    --no-skip-existing \\\n",
    "    --labels \"./labels.geojson\" \\\n",
    "    --label-property 'class' \\\n",
    "    --classes 'P' \\\n",
    "    --verbose"
   ]
  },
  {
   "cell_type": "code",
   "execution_count": null,
   "metadata": {},
   "outputs": [],
   "source": []
  }
 ],
 "metadata": {
  "kernelspec": {
   "display_name": "Python 3.9.13 ('raster')",
   "language": "python",
   "name": "python3"
  },
  "language_info": {
   "codemirror_mode": {
    "name": "ipython",
    "version": 3
   },
   "file_extension": ".py",
   "mimetype": "text/x-python",
   "name": "python",
   "nbconvert_exporter": "python",
   "pygments_lexer": "ipython3",
   "version": "3.9.13"
  },
  "orig_nbformat": 4,
  "vscode": {
   "interpreter": {
    "hash": "0bfae0698a36a4dfc798e06199e7bec29a339407f4d18e9b5a2a52d7733cfae6"
   }
  }
 },
 "nbformat": 4,
 "nbformat_minor": 2
}

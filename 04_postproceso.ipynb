{
 "cells": [
  {
   "cell_type": "code",
   "execution_count": 1,
   "metadata": {},
   "outputs": [],
   "source": [
    "from satproc.postprocess.polygonize import polygonize \n",
    "from satproc.filter import filter_by_max_prob"
   ]
  },
  {
   "cell_type": "code",
   "execution_count": 3,
   "metadata": {},
   "outputs": [],
   "source": [
    "!mkdir ./data_results/filtered/"
   ]
  },
  {
   "cell_type": "code",
   "execution_count": 6,
   "metadata": {},
   "outputs": [
    {
     "name": "stderr",
     "output_type": "stream",
     "text": [
      "100%|##########| 5102/5102 [00:13<00:00, 369.89it/s]\n"
     ]
    }
   ],
   "source": [
    "filter_by_max_prob(\n",
    "    input_dir='./data_results/3D/600_600/more_labels',\n",
    "    output_dir='./data_results/3D/filtered/more_labels',\n",
    "    threshold=0.5\n",
    "    )"
   ]
  },
  {
   "cell_type": "code",
   "execution_count": 7,
   "metadata": {},
   "outputs": [
    {
     "name": "stderr",
     "output_type": "stream",
     "text": [
      "Polygonize chips: 100%|##########| 2754/2754 [04:49<00:00,  9.50it/s]\n",
      "Merge chips into groups: 100%|##########| 3/3 [00:16<00:00,  5.37s/it]\n",
      "Merge groups: 100%|##########| 3/3 [00:23<00:00,  7.79s/it]\n",
      "Reading shapes: 100%|##########| 2210809/2210809 [03:15<00:00, 11286.49it/s]\n",
      "Dissolve: 100%|##########| 222/222 [01:01<00:00,  3.58it/s]\n",
      "/home/guillermo/anaconda3/envs/unet/lib/python3.10/site-packages/satproc/postprocess/polygonize.py:132: ShapelyDeprecationWarning: The 'type' attribute is deprecated, and will be removed in the future. You can use the 'geom_type' attribute instead.\n",
      "  if shp.type == \"MultiPolygon\":\n"
     ]
    }
   ],
   "source": [
    "input_path = './data_results/3D/filtered/more_labels'\n",
    "output_path = './data_results/poligonized/piscinas_600x600_thr05_morelabels.gpkg'\n",
    "\n",
    "polygonize(\n",
    "    threshold=0.5,\n",
    "    input_dir=input_path,\n",
    "    output=output_path\n",
    "    )"
   ]
  },
  {
   "cell_type": "code",
   "execution_count": 8,
   "metadata": {},
   "outputs": [],
   "source": [
    "# filtrar por area minima\n",
    "src_file = output_path\n",
    "dst_file = output_path[:-5] + \"_utm.gpkg\"\n",
    "\n",
    "!ogr2ogr -s_srs EPSG:32721 -a_srs EPSG:32721 -f 'GPKG' $dst_file $src_file"
   ]
  },
  {
   "cell_type": "code",
   "execution_count": 9,
   "metadata": {},
   "outputs": [
    {
     "name": "stdout",
     "output_type": "stream",
     "text": [
      "./data_results/poligonized/piscinas_600x600_thr05_morelabels_utm.gpkg\n",
      "./data_results/poligonized/piscinas_600x600_thr05_morelabels_utm_up5.gpkg\n"
     ]
    }
   ],
   "source": [
    "min_area = 5\n",
    "input_ = dst_file\n",
    "print(input_)\n",
    "output_ = input_[:-5] + \"_up5.gpkg\"\n",
    "print(output_)"
   ]
  },
  {
   "cell_type": "code",
   "execution_count": 11,
   "metadata": {},
   "outputs": [],
   "source": [
    "!ogr2ogr \\\n",
    "    -t_srs EPSG:32721 \\\n",
    "    -f \"GPKG\" \\\n",
    "    -sql \"SELECT * FROM piscinas_600x600_thr05_morelabels WHERE ST_Area(geom) > $min_area\" \\\n",
    "    -dialect SQLITE \\\n",
    "    -nln results \\\n",
    "    $output_ \\\n",
    "    $input_"
   ]
  }
 ],
 "metadata": {
  "kernelspec": {
   "display_name": "unet",
   "language": "python",
   "name": "python3"
  },
  "language_info": {
   "codemirror_mode": {
    "name": "ipython",
    "version": 3
   },
   "file_extension": ".py",
   "mimetype": "text/x-python",
   "name": "python",
   "nbconvert_exporter": "python",
   "pygments_lexer": "ipython3",
   "version": "3.10.9"
  },
  "orig_nbformat": 4
 },
 "nbformat": 4,
 "nbformat_minor": 2
}

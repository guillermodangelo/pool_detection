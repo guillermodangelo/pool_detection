{
 "cells": [
  {
   "cell_type": "code",
   "execution_count": 1,
   "metadata": {},
   "outputs": [],
   "source": [
    "from satproc.postprocess.polygonize import polygonize \n",
    "from satproc.filter import filter_by_max_prob"
   ]
  },
  {
   "cell_type": "code",
   "execution_count": 2,
   "metadata": {},
   "outputs": [
    {
     "name": "stdout",
     "output_type": "stream",
     "text": [
      "mkdir: cannot create directory ‘./data_results/filtered/’: File exists\n"
     ]
    }
   ],
   "source": [
    "!mkdir ./data_results/filtered/"
   ]
  },
  {
   "cell_type": "code",
   "execution_count": 4,
   "metadata": {},
   "outputs": [
    {
     "name": "stderr",
     "output_type": "stream",
     "text": [
      "100%|##########| 1808/1808 [00:04<00:00, 394.81it/s]\n"
     ]
    }
   ],
   "source": [
    "filter_by_max_prob(\n",
    "    input_dir='./data_results/3D/600_600',\n",
    "    output_dir='./data_results/3D/filtered',\n",
    "    threshold=0.5\n",
    "    )"
   ]
  },
  {
   "cell_type": "code",
   "execution_count": 5,
   "metadata": {},
   "outputs": [
    {
     "name": "stderr",
     "output_type": "stream",
     "text": [
      "Polygonize chips: 100%|##########| 1015/1015 [01:55<00:00,  8.76it/s]\n",
      "Merge chips into groups: 100%|##########| 2/2 [00:15<00:00,  7.75s/it]\n",
      "Merge groups: 100%|##########| 2/2 [00:09<00:00,  4.95s/it]\n",
      "Reading shapes: 100%|##########| 1025086/1025086 [01:29<00:00, 11495.95it/s]\n",
      "Dissolve: 100%|##########| 103/103 [00:28<00:00,  3.58it/s]\n",
      "/home/guillermo/anaconda3/envs/unet/lib/python3.10/site-packages/satproc/postprocess/polygonize.py:132: ShapelyDeprecationWarning: The 'type' attribute is deprecated, and will be removed in the future. You can use the 'geom_type' attribute instead.\n",
      "  if shp.type == \"MultiPolygon\":\n"
     ]
    }
   ],
   "source": [
    "input_path = './data_results/3D/filtered/'\n",
    "output_path = './data_results/poligonized/piscinas_600x600_thr05.gpkg'\n",
    "\n",
    "polygonize(\n",
    "    threshold=0.5,\n",
    "    input_dir=input_path,\n",
    "    output=output_path\n",
    "    )"
   ]
  },
  {
   "cell_type": "code",
   "execution_count": 6,
   "metadata": {},
   "outputs": [],
   "source": [
    "# filtrar por area minima\n",
    "src_file = output_path\n",
    "dst_file = output_path[:-5] + \"_utm.gpkg\"\n",
    "\n",
    "!ogr2ogr -s_srs EPSG:32721 -a_srs EPSG:32721 -f 'GPKG' $dst_file $src_file"
   ]
  },
  {
   "cell_type": "code",
   "execution_count": 7,
   "metadata": {},
   "outputs": [
    {
     "name": "stdout",
     "output_type": "stream",
     "text": [
      "./data_results/poligonized/piscinas_600x600_thr05_utm.gpkg\n",
      "./data_results/poligonized/piscinas_600x600_thr05_utm_up5.gpkg\n"
     ]
    }
   ],
   "source": [
    "min_area = 5\n",
    "input_ = dst_file\n",
    "print(input_)\n",
    "output_ = input_[:-5] + \"_up5.gpkg\"\n",
    "print(output_)"
   ]
  },
  {
   "cell_type": "code",
   "execution_count": 8,
   "metadata": {},
   "outputs": [],
   "source": [
    "!ogr2ogr \\\n",
    "    -t_srs EPSG:32721 \\\n",
    "    -f \"GPKG\" \\\n",
    "    -sql \"SELECT * FROM piscinas_600x600_thr05 WHERE ST_Area(geom) > $min_area\" \\\n",
    "    -dialect SQLITE \\\n",
    "    -nln results \\\n",
    "    $output_ \\\n",
    "    $input_"
   ]
  },
  {
   "cell_type": "code",
   "execution_count": null,
   "metadata": {},
   "outputs": [],
   "source": []
  }
 ],
 "metadata": {
  "kernelspec": {
   "display_name": "unet",
   "language": "python",
   "name": "python3"
  },
  "language_info": {
   "codemirror_mode": {
    "name": "ipython",
    "version": 3
   },
   "file_extension": ".py",
   "mimetype": "text/x-python",
   "name": "python",
   "nbconvert_exporter": "python",
   "pygments_lexer": "ipython3",
   "version": "3.10.9"
  },
  "orig_nbformat": 4
 },
 "nbformat": 4,
 "nbformat_minor": 2
}

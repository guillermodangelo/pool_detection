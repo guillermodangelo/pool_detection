{
 "cells": [
  {
   "cell_type": "code",
   "execution_count": 1,
   "metadata": {},
   "outputs": [
    {
     "name": "stderr",
     "output_type": "stream",
     "text": [
      "Traceback (most recent call last):\n",
      "  File \"rasterio\\_base.pyx\", line 302, in rasterio._base.DatasetBase.__init__\n",
      "  File \"rasterio\\_base.pyx\", line 213, in rasterio._base.open_dataset\n",
      "  File \"rasterio\\_err.pyx\", line 217, in rasterio._err.exc_wrap_pointer\n",
      "rasterio._err.CPLE_OpenFailedError: './images/*.jpg' does not exist in the file system, and is not recognized as a supported dataset name.\n",
      "\n",
      "During handling of the above exception, another exception occurred:\n",
      "\n",
      "Traceback (most recent call last):\n",
      "  File \"C:\\Users\\59898\\anaconda3\\envs\\raster\\lib\\runpy.py\", line 197, in _run_module_as_main\n",
      "    return _run_code(code, main_globals, None,\n",
      "  File \"C:\\Users\\59898\\anaconda3\\envs\\raster\\lib\\runpy.py\", line 87, in _run_code\n",
      "    exec(code, run_globals)\n",
      "  File \"C:\\Users\\59898\\anaconda3\\envs\\raster\\Scripts\\satproc_extract_chips.exe\\__main__.py\", line 7, in <module>\n",
      "  File \"C:\\Users\\59898\\anaconda3\\envs\\raster\\lib\\site-packages\\satproc\\console\\extract_chips.py\", line 307, in run\n",
      "    main(sys.argv[1:])\n",
      "  File \"C:\\Users\\59898\\anaconda3\\envs\\raster\\lib\\site-packages\\satproc\\console\\extract_chips.py\", line 253, in main\n",
      "    bands = list(range(1, get_raster_band_count(some_raster) + 1))\n",
      "  File \"C:\\Users\\59898\\anaconda3\\envs\\raster\\lib\\site-packages\\satproc\\utils.py\", line 266, in get_raster_band_count\n",
      "    with rasterio.open(path) as src:\n",
      "  File \"C:\\Users\\59898\\anaconda3\\envs\\raster\\lib\\site-packages\\rasterio\\env.py\", line 442, in wrapper\n",
      "    return f(*args, **kwds)\n",
      "  File \"C:\\Users\\59898\\anaconda3\\envs\\raster\\lib\\site-packages\\rasterio\\__init__.py\", line 277, in open\n",
      "    dataset = DatasetReader(path, driver=driver, sharing=sharing, **kwargs)\n",
      "  File \"rasterio\\_base.pyx\", line 304, in rasterio._base.DatasetBase.__init__\n",
      "rasterio.errors.RasterioIOError: './images/*.jpg' does not exist in the file system, and is not recognized as a supported dataset name.\n"
     ]
    }
   ],
   "source": [
    "!satproc_extract_chips \\\n",
    "    ./images/*.jpg \\\n",
    "    --output-dir \"chips\" \\\n",
    "    --size 1200 \\\n",
    "    --step-size 1200 \\\n",
    "    --aoi \"./aoi_v2.geojson\" \\\n",
    "    --crs EPSG:32721 \\\n",
    "    -t tif \\\n",
    "    --no-skip-existing \\\n",
    "    --labels \"./labels_v2.geojson\" \\\n",
    "    --label-property 'class' \\\n",
    "    --classes 'P'"
   ]
  },
  {
   "cell_type": "code",
   "execution_count": null,
   "metadata": {},
   "outputs": [],
   "source": []
  }
 ],
 "metadata": {
  "kernelspec": {
   "display_name": "Python 3.9.13 ('raster')",
   "language": "python",
   "name": "python3"
  },
  "language_info": {
   "codemirror_mode": {
    "name": "ipython",
    "version": 3
   },
   "file_extension": ".py",
   "mimetype": "text/x-python",
   "name": "python",
   "nbconvert_exporter": "python",
   "pygments_lexer": "ipython3",
   "version": "3.9.13"
  },
  "orig_nbformat": 4,
  "vscode": {
   "interpreter": {
    "hash": "0bfae0698a36a4dfc798e06199e7bec29a339407f4d18e9b5a2a52d7733cfae6"
   }
  }
 },
 "nbformat": 4,
 "nbformat_minor": 2
}

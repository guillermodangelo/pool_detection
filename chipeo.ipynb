{
 "cells": [
  {
   "cell_type": "code",
   "execution_count": null,
   "metadata": {},
   "outputs": [],
   "source": [
    "satproc_extract_chips fotos_aoi\\J-29-C-1-O-6.jpg --size 1200 --step-size 600 --sliding-windows-mode exact -t jpg --write-footprints --no-skip-existing"
   ]
  },
  {
   "cell_type": "markdown",
   "metadata": {},
   "source": []
  }
 ],
 "metadata": {
  "kernelspec": {
   "display_name": "Python 3.9.10 ('raster')",
   "language": "python",
   "name": "python3"
  },
  "language_info": {
   "name": "python",
   "version": "3.9.10"
  },
  "orig_nbformat": 4,
  "vscode": {
   "interpreter": {
    "hash": "0bfae0698a36a4dfc798e06199e7bec29a339407f4d18e9b5a2a52d7733cfae6"
   }
  }
 },
 "nbformat": 4,
 "nbformat_minor": 2
}

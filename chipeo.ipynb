{
 "cells": [
  {
   "cell_type": "code",
   "execution_count": 18,
   "metadata": {},
   "outputs": [],
   "source": [
    "import glob"
   ]
  },
  {
   "cell_type": "code",
   "execution_count": 22,
   "metadata": {},
   "outputs": [
    {
     "name": "stderr",
     "output_type": "stream",
     "text": [
      "\n",
      "Rasters:   0%|          | 0/1 [00:00<?, ?it/s]\n",
      "Rasters:   0%|          | 0/1 [00:00<?, ?it/s]\n",
      "Traceback (most recent call last):\n",
      "  File \"rasterio\\_base.pyx\", line 302, in rasterio._base.DatasetBase.__init__\n",
      "  File \"rasterio\\_base.pyx\", line 213, in rasterio._base.open_dataset\n",
      "  File \"rasterio\\_err.pyx\", line 217, in rasterio._err.exc_wrap_pointer\n",
      "rasterio._err.CPLE_OpenFailedError: './images/*.jpg' does not exist in the file system, and is not recognized as a supported dataset name.\n",
      "\n",
      "During handling of the above exception, another exception occurred:\n",
      "\n",
      "Traceback (most recent call last):\n",
      "  File \"C:\\Users\\59898\\anaconda3\\envs\\raster\\lib\\runpy.py\", line 197, in _run_module_as_main\n",
      "    return _run_code(code, main_globals, None,\n",
      "  File \"C:\\Users\\59898\\anaconda3\\envs\\raster\\lib\\runpy.py\", line 87, in _run_code\n",
      "    exec(code, run_globals)\n",
      "  File \"C:\\Users\\59898\\anaconda3\\envs\\raster\\Scripts\\satproc_extract_chips.exe\\__main__.py\", line 7, in <module>\n",
      "  File \"C:\\Users\\59898\\anaconda3\\envs\\raster\\lib\\site-packages\\satproc\\console\\extract_chips.py\", line 307, in run\n",
      "    main(sys.argv[1:])\n",
      "  File \"C:\\Users\\59898\\anaconda3\\envs\\raster\\lib\\site-packages\\satproc\\console\\extract_chips.py\", line 280, in main\n",
      "    extract_chips(\n",
      "  File \"C:\\Users\\59898\\anaconda3\\envs\\raster\\lib\\site-packages\\satproc\\chips.py\", line 66, in extract_chips\n",
      "    extract_chips_from_raster(\n",
      "  File \"C:\\Users\\59898\\anaconda3\\envs\\raster\\lib\\site-packages\\satproc\\chips.py\", line 130, in extract_chips_from_raster\n",
      "    with rasterio.open(raster) as ds:\n",
      "  File \"C:\\Users\\59898\\anaconda3\\envs\\raster\\lib\\site-packages\\rasterio\\env.py\", line 442, in wrapper\n",
      "    return f(*args, **kwds)\n",
      "  File \"C:\\Users\\59898\\anaconda3\\envs\\raster\\lib\\site-packages\\rasterio\\__init__.py\", line 277, in open\n",
      "    dataset = DatasetReader(path, driver=driver, sharing=sharing, **kwargs)\n",
      "  File \"rasterio\\_base.pyx\", line 304, in rasterio._base.DatasetBase.__init__\n",
      "rasterio.errors.RasterioIOError: './images/*.jpg' does not exist in the file system, and is not recognized as a supported dataset name.\n"
     ]
    }
   ],
   "source": [
    "path_to_files = \"./images/*.jpg\"\n",
    "vector_file_aoi = \"./aoi.geojson\"\n",
    "labes = \"./labels.geojson\"\n",
    "\n",
    "size = 2400\n",
    "    \n",
    "!satproc_extract_chips \\\n",
    "    $path_to_files \\\n",
    "    --output-dir chips \\\n",
    "    --size $size \\\n",
    "    --step-size $size \\\n",
    "    --aoi $vector_file_aoi \\\n",
    "    --crs EPSG:32721 \\\n",
    "    -t jpg \\\n",
    "    --write-footprints \\\n",
    "    --no-skip-existing \\\n",
    "    --labels $labels \\\n",
    "    --within"
   ]
  },
  {
   "cell_type": "markdown",
   "metadata": {},
   "source": []
  }
 ],
 "metadata": {
  "kernelspec": {
   "display_name": "Python 3.9.10 ('raster')",
   "language": "python",
   "name": "python3"
  },
  "language_info": {
   "codemirror_mode": {
    "name": "ipython",
    "version": 3
   },
   "file_extension": ".py",
   "mimetype": "text/x-python",
   "name": "python",
   "nbconvert_exporter": "python",
   "pygments_lexer": "ipython3",
   "version": "3.9.13"
  },
  "orig_nbformat": 4,
  "vscode": {
   "interpreter": {
    "hash": "0bfae0698a36a4dfc798e06199e7bec29a339407f4d18e9b5a2a52d7733cfae6"
   }
  }
 },
 "nbformat": 4,
 "nbformat_minor": 2
}

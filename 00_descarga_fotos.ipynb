{
 "cells": [
  {
   "cell_type": "code",
   "execution_count": 1,
   "metadata": {},
   "outputs": [],
   "source": [
    "import pandas as pd\n",
    "import requests\n",
    "import os"
   ]
  },
  {
   "cell_type": "code",
   "execution_count": 2,
   "metadata": {},
   "outputs": [
    {
     "data": {
      "text/plain": [
       "['J-29-C-1-O-6',\n",
       " 'J-29-C-1-O-9',\n",
       " 'J-29-C-1-P-4',\n",
       " 'J-29-C-1-P-5',\n",
       " 'J-29-C-1-P-6']"
      ]
     },
     "execution_count": 2,
     "metadata": {},
     "output_type": "execute_result"
    }
   ],
   "source": [
    "img_list = list(pd.read_csv('images_aoi.csv')['HOJA'])\n",
    "img_list[0:5]"
   ]
  },
  {
   "cell_type": "code",
   "execution_count": 3,
   "metadata": {},
   "outputs": [],
   "source": [
    "url_base = 'https://intgis.montevideo.gub.uy/sit/mapserv/data/fotos_2021/'"
   ]
  },
  {
   "cell_type": "code",
   "execution_count": 4,
   "metadata": {},
   "outputs": [],
   "source": [
    "def im_image_downloader(img_name):\n",
    "    \"Download images AOI\"\n",
    "    path = 'images/'\n",
    "\n",
    "    if not os.path.exists(path):\n",
    "        os.makedirs(path)\n",
    "    \n",
    "    url = url_base + img_name + '.jpg'\n",
    "    url_ref = url_base + img_name + '.jgw'\n",
    "\n",
    "    headers = {'User-Agent': 'Mozilla/5.0 (Windows NT 6.1; Win64; x64; rv:47.0) Gecko/20100101 Firefox/47.0'}\n",
    "\n",
    "    response = requests.get(url, headers=headers)\n",
    "\n",
    "    if response.ok:\n",
    "        with open(path + img_name + '.jpg', 'wb') as f:\n",
    "            f.write(response.content)\n",
    "    else:\n",
    "        print(response, img_name)\n",
    "  \n",
    "    response = requests.get(url_ref, headers=headers)\n",
    "\n",
    "    if response.ok:\n",
    "        with open(path + img_name + '.jgw', 'wb') as f:\n",
    "            f.write(response.content)\n",
    "        print(f'Image {img_name} was downloaded successfully.')\n",
    "    else:\n",
    "        print(response, img_name)\n",
    "  \n"
   ]
  },
  {
   "cell_type": "code",
   "execution_count": 5,
   "metadata": {},
   "outputs": [
    {
     "name": "stdout",
     "output_type": "stream",
     "text": [
      "Image J-29-C-1-O-6 was downloaded successfully.\n",
      "Image J-29-C-1-O-9 was downloaded successfully.\n",
      "Image J-29-C-1-P-4 was downloaded successfully.\n",
      "Image J-29-C-1-P-5 was downloaded successfully.\n",
      "Image J-29-C-1-P-6 was downloaded successfully.\n",
      "Image J-29-C-1-P-7 was downloaded successfully.\n",
      "Image J-29-C-1-P-8 was downloaded successfully.\n",
      "Image J-29-C-1-P-9 was downloaded successfully.\n",
      "Image J-29-C-2-O-4 was downloaded successfully.\n",
      "Image J-29-C-2-O-5 was downloaded successfully.\n",
      "Image J-29-C-2-O-6 was downloaded successfully.\n",
      "Image J-29-C-2-O-7 was downloaded successfully.\n",
      "Image J-29-C-2-O-8 was downloaded successfully.\n",
      "Image J-29-C-2-O-9 was downloaded successfully.\n",
      "Image J-29-C-2-P-4 was downloaded successfully.\n",
      "Image J-29-C-2-P-5 was downloaded successfully.\n",
      "Image J-29-C-2-P-6 was downloaded successfully.\n",
      "Image J-29-C-2-P-7 was downloaded successfully.\n",
      "Image J-29-C-2-P-8 was downloaded successfully.\n",
      "Image J-29-C-2-P-9 was downloaded successfully.\n",
      "Image J-29-C-3-O-4 was downloaded successfully.\n",
      "Image J-29-C-3-O-7 was downloaded successfully.\n",
      "Image J-29-C-3-O-8 was downloaded successfully.\n",
      "Image J-29-C-3-O-9 was downloaded successfully.\n",
      "Image J-29-C-4-M-3 was downloaded successfully.\n",
      "Image J-29-C-4-M-6 was downloaded successfully.\n",
      "Image J-29-C-4-M-9 was downloaded successfully.\n",
      "Image J-29-C-4-N-1 was downloaded successfully.\n",
      "Image J-29-C-4-N-2 was downloaded successfully.\n",
      "Image J-29-C-4-N-3 was downloaded successfully.\n",
      "Image J-29-C-4-N-4 was downloaded successfully.\n",
      "Image J-29-C-4-N-5 was downloaded successfully.\n",
      "Image J-29-C-4-N-6 was downloaded successfully.\n",
      "Image J-29-C-4-N-7 was downloaded successfully.\n",
      "Image J-29-C-4-N-8 was downloaded successfully.\n",
      "Image J-29-C-4-N-9 was downloaded successfully.\n",
      "Image J-29-C-4-O-3 was downloaded successfully.\n",
      "Image J-29-C-4-O-6 was downloaded successfully.\n",
      "Image J-29-C-4-O-9 was downloaded successfully.\n",
      "Image J-29-C-4-P-1 was downloaded successfully.\n",
      "Image J-29-C-4-P-2 was downloaded successfully.\n",
      "Image J-29-C-4-P-3 was downloaded successfully.\n",
      "Image J-29-C-4-P-4 was downloaded successfully.\n",
      "Image J-29-C-4-P-5 was downloaded successfully.\n",
      "Image J-29-C-4-P-7 was downloaded successfully.\n",
      "Image J-29-C-5-M-1 was downloaded successfully.\n",
      "Image J-29-C-5-M-2 was downloaded successfully.\n",
      "Image J-29-C-5-M-3 was downloaded successfully.\n",
      "Image J-29-C-5-M-4 was downloaded successfully.\n",
      "Image J-29-C-5-M-5 was downloaded successfully.\n",
      "Image J-29-C-5-M-6 was downloaded successfully.\n",
      "Image J-29-C-5-M-7 was downloaded successfully.\n",
      "Image J-29-C-5-M-8 was downloaded successfully.\n",
      "Image J-29-C-5-M-9 was downloaded successfully.\n",
      "Image J-29-C-5-N-1 was downloaded successfully.\n",
      "Image J-29-C-5-N-2 was downloaded successfully.\n",
      "Image J-29-C-5-N-3 was downloaded successfully.\n",
      "Image J-29-C-5-N-4 was downloaded successfully.\n",
      "Image J-29-C-5-N-5 was downloaded successfully.\n",
      "Image J-29-C-5-N-6 was downloaded successfully.\n",
      "Image J-29-C-5-N-7 was downloaded successfully.\n",
      "Image J-29-C-5-N-8 was downloaded successfully.\n",
      "Image J-29-C-5-N-9 was downloaded successfully.\n",
      "Image J-29-C-5-O-1 was downloaded successfully.\n",
      "Image J-29-C-5-O-2 was downloaded successfully.\n",
      "Image J-29-C-5-O-3 was downloaded successfully.\n",
      "Image J-29-C-5-P-1 was downloaded successfully.\n",
      "Image J-29-C-5-P-2 was downloaded successfully.\n",
      "Image J-29-C-6-M-1 was downloaded successfully.\n",
      "Image J-29-C-6-M-2 was downloaded successfully.\n",
      "Image J-29-C-6-M-3 was downloaded successfully.\n",
      "Image J-29-C-6-M-4 was downloaded successfully.\n",
      "Image J-29-C-6-M-5 was downloaded successfully.\n"
     ]
    },
    {
     "data": {
      "text/plain": [
       "[None,\n",
       " None,\n",
       " None,\n",
       " None,\n",
       " None,\n",
       " None,\n",
       " None,\n",
       " None,\n",
       " None,\n",
       " None,\n",
       " None,\n",
       " None,\n",
       " None,\n",
       " None,\n",
       " None,\n",
       " None,\n",
       " None,\n",
       " None,\n",
       " None,\n",
       " None,\n",
       " None,\n",
       " None,\n",
       " None,\n",
       " None,\n",
       " None,\n",
       " None,\n",
       " None,\n",
       " None,\n",
       " None,\n",
       " None,\n",
       " None,\n",
       " None,\n",
       " None,\n",
       " None,\n",
       " None,\n",
       " None,\n",
       " None,\n",
       " None,\n",
       " None,\n",
       " None,\n",
       " None,\n",
       " None,\n",
       " None,\n",
       " None,\n",
       " None,\n",
       " None,\n",
       " None,\n",
       " None,\n",
       " None,\n",
       " None,\n",
       " None,\n",
       " None,\n",
       " None,\n",
       " None,\n",
       " None,\n",
       " None,\n",
       " None,\n",
       " None,\n",
       " None,\n",
       " None,\n",
       " None,\n",
       " None,\n",
       " None,\n",
       " None,\n",
       " None,\n",
       " None,\n",
       " None,\n",
       " None,\n",
       " None,\n",
       " None,\n",
       " None,\n",
       " None,\n",
       " None]"
      ]
     },
     "execution_count": 5,
     "metadata": {},
     "output_type": "execute_result"
    }
   ],
   "source": [
    "[im_image_downloader(img) for img in img_list]"
   ]
  }
 ],
 "metadata": {
  "kernelspec": {
   "display_name": "Python 3.9.12 ('rpa')",
   "language": "python",
   "name": "python3"
  },
  "language_info": {
   "codemirror_mode": {
    "name": "ipython",
    "version": 3
   },
   "file_extension": ".py",
   "mimetype": "text/x-python",
   "name": "python",
   "nbconvert_exporter": "python",
   "pygments_lexer": "ipython3",
   "version": "3.9.12"
  },
  "orig_nbformat": 4,
  "vscode": {
   "interpreter": {
    "hash": "c68c03ce9bbeac8ac91a204ffdd13345f89f8b8ff6c46a9dddb74aa938c6be50"
   }
  }
 },
 "nbformat": 4,
 "nbformat_minor": 2
}

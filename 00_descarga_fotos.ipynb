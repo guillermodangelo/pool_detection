{
 "cells": [
  {
   "cell_type": "code",
   "execution_count": 1,
   "metadata": {},
   "outputs": [],
   "source": [
    "import pandas as pd\n",
    "import requests\n",
    "import os"
   ]
  },
  {
   "cell_type": "code",
   "execution_count": 2,
   "metadata": {},
   "outputs": [
    {
     "data": {
      "text/plain": [
       "['J-29-C-1-O-6',\n",
       " 'J-29-C-1-O-9',\n",
       " 'J-29-C-1-P-4',\n",
       " 'J-29-C-1-P-5',\n",
       " 'J-29-C-1-P-6']"
      ]
     },
     "execution_count": 2,
     "metadata": {},
     "output_type": "execute_result"
    }
   ],
   "source": [
    "img_list = list(pd.read_csv('images_aoi.csv')['HOJA'])\n",
    "img_list[0:5]"
   ]
  },
  {
   "cell_type": "code",
   "execution_count": 3,
   "metadata": {},
   "outputs": [],
   "source": [
    "url_base = 'https://intgis.montevideo.gub.uy/sit/mapserv/data/fotos_2021/'"
   ]
  },
  {
   "cell_type": "code",
   "execution_count": 4,
   "metadata": {},
   "outputs": [],
   "source": [
    "def im_image_downloader(img_name):\n",
    "    \"Download images AOI\"\n",
    "    path = 'images/'\n",
    "\n",
    "    if not os.path.exists(path):\n",
    "        os.makedirs(path)\n",
    "    \n",
    "    url = url_base + img_name + '.jpg'\n",
    "    url_ref = url_base + img_name + '.jgw'\n",
    "\n",
    "    headers = {'User-Agent': 'Mozilla/5.0 (Windows NT 6.1; Win64; x64; rv:47.0) Gecko/20100101 Firefox/47.0'}\n",
    "\n",
    "    response = requests.get(url, headers=headers)\n",
    "\n",
    "    if response.ok:\n",
    "        with open(path + img_name + '.jpg', 'wb') as f:\n",
    "            f.write(response.content)\n",
    "    else:\n",
    "        print(response, img_name)\n",
    "  \n",
    "    response = requests.get(url_ref, headers=headers)\n",
    "\n",
    "    if response.ok:\n",
    "        with open(path + img_name + '.jgw', 'wb') as f:\n",
    "            f.write(response.content)\n",
    "        print(f'Image {img_name} was downloaded successfully.')\n",
    "    else:\n",
    "        print(response, img_name)\n",
    "  \n"
   ]
  },
  {
   "cell_type": "code",
   "execution_count": null,
   "metadata": {},
   "outputs": [],
   "source": [
    "for img in img_list:\n",
    "    im_image_downloader(img)"
   ]
  },
  {
   "attachments": {},
   "cell_type": "markdown",
   "metadata": {},
   "source": [
    "Descarga vuelo IDE"
   ]
  },
  {
   "cell_type": "code",
   "execution_count": 3,
   "metadata": {
    "vscode": {
     "languageId": "shellscript"
    }
   },
   "outputs": [],
   "source": [
    "!ideuy_filter \\\n",
    "    --type urban \\\n",
    "    --output ideuy/grilla_urbana_filtrada.geojson \\\n",
    "    ideuy/aoi_predict.geojson"
   ]
  },
  {
   "cell_type": "code",
   "execution_count": 6,
   "metadata": {
    "vscode": {
     "languageId": "shellscript"
    }
   },
   "outputs": [
    {
     "name": "stdout",
     "output_type": "stream",
     "text": [
      "  0%|                                                    | 0/30 [00:00<?, ?it/s]\n",
      "J29C2P5_RGBI_16_Remesa_03_CCA.tif:   0%|             | 0.00/769M [00:00<?, ?B/s]\u001b[A\n",
      "\n",
      "J29C2O9_RGBI_16_Remesa_01_MVD.tif:   0%|             | 0.00/769M [00:00<?, ?B/s]\u001b[A\u001b[A\n",
      "\n",
      "\n",
      "J29C2P7_RGBI_16_Remesa_01_MVD.tif:   0%|             | 0.00/769M [00:00<?, ?B/s]\u001b[A\u001b[A\u001b[A\n",
      "\n",
      "\n",
      "\n",
      "J29C2P4_RGBI_16_Remesa_03_CCA.tif:   0%|             | 0.00/769M [00:00<?, ?B/s]\u001b[A\u001b[A\u001b[A\u001b[A\n",
      "J29C2P5_RGBI_16_Remesa_03_CCA.tif:   0%|  | 9.22k/769M [00:00<2:20:46, 91.1kB/s]\u001b[A\n",
      "\n",
      "J29C2O9_RGBI_16_Remesa_01_MVD.tif:   0%|  | 9.22k/769M [00:00<2:30:18, 85.2kB/s]\u001b[A\u001b[A\n",
      "\n",
      "\n",
      "\n",
      "J29C2P4_RGBI_16_Remesa_03_CCA.tif:   0%|     | 224k/769M [00:00<07:27, 1.72MB/s]\u001b[A\u001b[A\u001b[A\u001b[A\n",
      "J29C2P5_RGBI_16_Remesa_03_CCA.tif:   0%|     | 562k/769M [00:00<03:56, 3.25MB/s]\u001b[A\n",
      "\n",
      "J29C2O9_RGBI_16_Remesa_01_MVD.t